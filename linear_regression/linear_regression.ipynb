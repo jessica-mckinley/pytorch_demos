{
 "cells": [
  {
   "cell_type": "markdown",
   "metadata": {},
   "source": [
    "This notebook is intended to be an example of how to perform linear regression with either Pytorch or sklearn"
   ]
  },
  {
   "cell_type": "code",
   "execution_count": 5,
   "metadata": {},
   "outputs": [],
   "source": [
    "import numpy as np\n",
    "import pandas as pd\n",
    "import random\n",
    "import torch\n",
    "import matplotlib.pyplot as plt"
   ]
  },
  {
   "cell_type": "markdown",
   "metadata": {},
   "source": [
    "# I will use this simple dataset to perform regression analysis on\n",
    "\n",
    "This dataset was taken from the following website:\n",
    "https://online.stat.psu.edu/stat462/node/101/"
   ]
  },
  {
   "cell_type": "code",
   "execution_count": 3,
   "metadata": {},
   "outputs": [],
   "source": [
    "poverty = pd.read_csv('/srv/home/jmckinley/work/pytorch/basic_tests/poverty.csv')"
   ]
  },
  {
   "cell_type": "code",
   "execution_count": 4,
   "metadata": {},
   "outputs": [
    {
     "data": {
      "text/html": [
       "<div>\n",
       "<style scoped>\n",
       "    .dataframe tbody tr th:only-of-type {\n",
       "        vertical-align: middle;\n",
       "    }\n",
       "\n",
       "    .dataframe tbody tr th {\n",
       "        vertical-align: top;\n",
       "    }\n",
       "\n",
       "    .dataframe thead th {\n",
       "        text-align: right;\n",
       "    }\n",
       "</style>\n",
       "<table border=\"1\" class=\"dataframe\">\n",
       "  <thead>\n",
       "    <tr style=\"text-align: right;\">\n",
       "      <th></th>\n",
       "      <th>Location</th>\n",
       "      <th>PovPct</th>\n",
       "      <th>Brth15to17</th>\n",
       "      <th>Brth18to19</th>\n",
       "      <th>ViolCrime</th>\n",
       "      <th>TeenBrth</th>\n",
       "    </tr>\n",
       "  </thead>\n",
       "  <tbody>\n",
       "    <tr>\n",
       "      <th>0</th>\n",
       "      <td>Alabama</td>\n",
       "      <td>20.1</td>\n",
       "      <td>31.5</td>\n",
       "      <td>88.7</td>\n",
       "      <td>11.2</td>\n",
       "      <td>54.5</td>\n",
       "    </tr>\n",
       "    <tr>\n",
       "      <th>1</th>\n",
       "      <td>Alaska</td>\n",
       "      <td>7.1</td>\n",
       "      <td>18.9</td>\n",
       "      <td>73.7</td>\n",
       "      <td>9.1</td>\n",
       "      <td>39.5</td>\n",
       "    </tr>\n",
       "    <tr>\n",
       "      <th>2</th>\n",
       "      <td>Arizona</td>\n",
       "      <td>16.1</td>\n",
       "      <td>35.0</td>\n",
       "      <td>102.5</td>\n",
       "      <td>10.4</td>\n",
       "      <td>61.2</td>\n",
       "    </tr>\n",
       "    <tr>\n",
       "      <th>3</th>\n",
       "      <td>Arkansas</td>\n",
       "      <td>14.9</td>\n",
       "      <td>31.6</td>\n",
       "      <td>101.7</td>\n",
       "      <td>10.4</td>\n",
       "      <td>59.9</td>\n",
       "    </tr>\n",
       "    <tr>\n",
       "      <th>4</th>\n",
       "      <td>California</td>\n",
       "      <td>16.7</td>\n",
       "      <td>22.6</td>\n",
       "      <td>69.1</td>\n",
       "      <td>11.2</td>\n",
       "      <td>41.1</td>\n",
       "    </tr>\n",
       "  </tbody>\n",
       "</table>\n",
       "</div>"
      ],
      "text/plain": [
       "     Location  PovPct  Brth15to17  Brth18to19  ViolCrime  TeenBrth\n",
       "0     Alabama    20.1        31.5        88.7       11.2      54.5\n",
       "1      Alaska     7.1        18.9        73.7        9.1      39.5\n",
       "2     Arizona    16.1        35.0       102.5       10.4      61.2\n",
       "3    Arkansas    14.9        31.6       101.7       10.4      59.9\n",
       "4  California    16.7        22.6        69.1       11.2      41.1"
      ]
     },
     "execution_count": 4,
     "metadata": {},
     "output_type": "execute_result"
    }
   ],
   "source": [
    "poverty.head()"
   ]
  },
  {
   "cell_type": "code",
   "execution_count": 140,
   "metadata": {},
   "outputs": [
    {
     "data": {
      "text/plain": [
       "Text(0, 0.5, 'TeenBrth')"
      ]
     },
     "execution_count": 140,
     "metadata": {},
     "output_type": "execute_result"
    },
    {
     "data": {
      "image/png": "[encoded data removed]",
      "text/plain": [
       "<Figure size 720x720 with 4 Axes>"
      ]
     },
     "metadata": {
      "needs_background": "light"
     },
     "output_type": "display_data"
    }
   ],
   "source": [
    "fig, axs = plt.subplots(2, 2, figsize = (10, 10))\n",
    "\n",
    "axs[0,0].scatter(poverty['PovPct'], poverty['Brth15to17'], label='Brth15to17')\n",
    "axs[0,1].scatter(poverty['PovPct'], poverty['Brth18to19'], label='Brth18to19')\n",
    "axs[1,0].scatter(poverty['PovPct'], poverty['ViolCrime'], label='ViolCrime')\n",
    "axs[1,1].scatter(poverty['PovPct'], poverty['TeenBrth'], label='TeenBrth')\n",
    "\n",
    "axs[0,0].set_xlabel('PovPct')\n",
    "axs[0,1].set_xlabel('PovPct')\n",
    "axs[1,0].set_xlabel('PovPct')\n",
    "axs[1,1].set_xlabel('PovPct')\n",
    "axs[0,0].set_ylabel('Brth15to17')\n",
    "axs[0,1].set_ylabel('Brth18to19')\n",
    "axs[1,0].set_ylabel('ViolCrime')\n",
    "axs[1,1].set_ylabel('TeenBrth')"
   ]
  },
  {
   "cell_type": "markdown",
   "metadata": {},
   "source": [
    "Note: I have arbitrarily chosen the 'PovPct' and 'Brth15to17' to perform linear regression on. This is not to suggest that one of these values is easier to predict on than others."
   ]
  },
  {
   "cell_type": "markdown",
   "metadata": {},
   "source": [
    "# First let's try out sklearn"
   ]
  },
  {
   "cell_type": "code",
   "execution_count": 8,
   "metadata": {},
   "outputs": [],
   "source": [
    "from sklearn.linear_model import LinearRegression"
   ]
  },
  {
   "cell_type": "markdown",
   "metadata": {},
   "source": [
    "### Instantiate the LinearRegression module"
   ]
  },
  {
   "cell_type": "code",
   "execution_count": 9,
   "metadata": {},
   "outputs": [],
   "source": [
    "sk_model = LinearRegression()"
   ]
  },
  {
   "cell_type": "markdown",
   "metadata": {},
   "source": [
    "### Reshape the data to make sklearn happy"
   ]
  },
  {
   "cell_type": "code",
   "execution_count": 27,
   "metadata": {},
   "outputs": [],
   "source": [
    "tmp_x = poverty['PovPct'].to_numpy()\n",
    "tmp_x = tmp_x.reshape(-1, 1)\n",
    "tmp_y = poverty['Brth15to17'].to_numpy()\n",
    "tmp_y = tmp_y.reshape(-1, 1)"
   ]
  },
  {
   "cell_type": "code",
   "execution_count": 29,
   "metadata": {},
   "outputs": [
    {
     "data": {
      "text/plain": [
       "(51, 1)"
      ]
     },
     "execution_count": 29,
     "metadata": {},
     "output_type": "execute_result"
    }
   ],
   "source": [
    "tmp_x.shape"
   ]
  },
  {
   "cell_type": "code",
   "execution_count": 30,
   "metadata": {},
   "outputs": [
    {
     "data": {
      "text/plain": [
       "(51, 1)"
      ]
     },
     "execution_count": 30,
     "metadata": {},
     "output_type": "execute_result"
    }
   ],
   "source": [
    "tmp_y.shape"
   ]
  },
  {
   "cell_type": "markdown",
   "metadata": {},
   "source": [
    "### Now fit the data"
   ]
  },
  {
   "cell_type": "code",
   "execution_count": 31,
   "metadata": {},
   "outputs": [
    {
     "data": {
      "text/plain": [
       "LinearRegression()"
      ]
     },
     "execution_count": 31,
     "metadata": {},
     "output_type": "execute_result"
    }
   ],
   "source": [
    "sk_model.fit(tmp_x, tmp_y)"
   ]
  },
  {
   "cell_type": "markdown",
   "metadata": {},
   "source": [
    "### Get the R^2 value"
   ]
  },
  {
   "cell_type": "code",
   "execution_count": 126,
   "metadata": {},
   "outputs": [
    {
     "name": "stdout",
     "output_type": "stream",
     "text": [
      "coefficient of determination: 0.5333279627871967\n"
     ]
    }
   ],
   "source": [
    "r_sq_sklr = sk_model.score(tmp_x, tmp_y)\n",
    "print('coefficient of determination:', r_sq_sklr)"
   ]
  },
  {
   "cell_type": "markdown",
   "metadata": {},
   "source": [
    "### Can also get the slope and the intercept"
   ]
  },
  {
   "cell_type": "code",
   "execution_count": 35,
   "metadata": {},
   "outputs": [
    {
     "name": "stdout",
     "output_type": "stream",
     "text": [
      "intercept: [4.26729284]\n",
      "slope: [[1.37334539]]\n"
     ]
    }
   ],
   "source": [
    "print('intercept:', sk_model.intercept_)\n",
    "print('slope:', sk_model.coef_)\n",
    "\n",
    "line_fit_y = tmp_x*sk_model.coef_ + sk_model.intercept_"
   ]
  },
  {
   "cell_type": "markdown",
   "metadata": {},
   "source": [
    "### Visualize the results"
   ]
  },
  {
   "cell_type": "code",
   "execution_count": 39,
   "metadata": {},
   "outputs": [
    {
     "data": {
      "text/plain": [
       "[<matplotlib.lines.Line2D at 0x7fef704f1650>]"
      ]
     },
     "execution_count": 39,
     "metadata": {},
     "output_type": "execute_result"
    },
    {
     "data": {
      "image/png": "[encoded data removed]",
      "text/plain": [
       "<Figure size 432x288 with 1 Axes>"
      ]
     },
     "metadata": {
      "needs_background": "light"
     },
     "output_type": "display_data"
    }
   ],
   "source": [
    "plt.scatter(tmp_x, tmp_y, c='b')\n",
    "plt.plot(tmp_x, line_fit_y, c='r')"
   ]
  },
  {
   "cell_type": "markdown",
   "metadata": {},
   "source": [
    "# Now let's try a simple neural network"
   ]
  },
  {
   "cell_type": "markdown",
   "metadata": {},
   "source": [
    "For this example I heavily followed this article: https://towardsdatascience.com/linear-regression-with-pytorch-eb6dedead817"
   ]
  },
  {
   "cell_type": "code",
   "execution_count": 50,
   "metadata": {},
   "outputs": [],
   "source": [
    "import torch.nn as nn\n",
    "import torch.nn.functional as F\n",
    "from torch.autograd import Variable"
   ]
  },
  {
   "cell_type": "markdown",
   "metadata": {},
   "source": [
    "### First define the data (note: wanted dtype=np.float32)"
   ]
  },
  {
   "cell_type": "code",
   "execution_count": 64,
   "metadata": {},
   "outputs": [],
   "source": [
    "x_train = poverty['PovPct'].to_numpy(dtype=np.float32)\n",
    "x_train = x_train.reshape(-1, 1)\n",
    "y_train = poverty['Brth15to17'].to_numpy(dtype=np.float32)\n",
    "y_train = y_train.reshape(-1, 1)"
   ]
  },
  {
   "cell_type": "code",
   "execution_count": 65,
   "metadata": {},
   "outputs": [
    {
     "data": {
      "text/plain": [
       "(51, 1)"
      ]
     },
     "execution_count": 65,
     "metadata": {},
     "output_type": "execute_result"
    }
   ],
   "source": [
    "x_train.shape"
   ]
  },
  {
   "cell_type": "code",
   "execution_count": 100,
   "metadata": {},
   "outputs": [
    {
     "data": {
      "text/plain": [
       "array([20.1], dtype=float32)"
      ]
     },
     "execution_count": 100,
     "metadata": {},
     "output_type": "execute_result"
    }
   ],
   "source": [
    "x_train[0]"
   ]
  },
  {
   "cell_type": "markdown",
   "metadata": {},
   "source": [
    "### Next define the model"
   ]
  },
  {
   "cell_type": "code",
   "execution_count": 87,
   "metadata": {},
   "outputs": [],
   "source": [
    "class linearRegression(nn.Module):\n",
    "    def __init__(self, inputSize, outputSize):\n",
    "        super(linearRegression, self).__init__()\n",
    "        #Now define features of the NN\n",
    "        self.linear = torch.nn.Linear(inputSize, outputSize)\n",
    "    \n",
    "    def forward(self, x):\n",
    "        # Now define what a forward pass looks like\n",
    "        out = self.linear(x)\n",
    "        #print(out)\n",
    "        return out"
   ]
  },
  {
   "cell_type": "markdown",
   "metadata": {},
   "source": [
    "### Define some parameters for training"
   ]
  },
  {
   "cell_type": "code",
   "execution_count": 141,
   "metadata": {},
   "outputs": [],
   "source": [
    "inputDim = 1        # takes variable 'x' \n",
    "outputDim = 1       # takes variable 'y'\n",
    "learningRate = 0.0001 \n",
    "epochs = 500"
   ]
  },
  {
   "cell_type": "markdown",
   "metadata": {},
   "source": [
    "### Instantiate the model"
   ]
  },
  {
   "cell_type": "code",
   "execution_count": 142,
   "metadata": {},
   "outputs": [],
   "source": [
    "lr = linearRegression(inputDim, outputDim)"
   ]
  },
  {
   "cell_type": "code",
   "execution_count": 143,
   "metadata": {},
   "outputs": [],
   "source": [
    "# Can tie this to a GPU if available\n",
    "if torch.cuda.is_available():\n",
    "    lr.cuda()"
   ]
  },
  {
   "cell_type": "markdown",
   "metadata": {},
   "source": [
    "### Set loss criteria and optimization algorithm"
   ]
  },
  {
   "cell_type": "code",
   "execution_count": 144,
   "metadata": {},
   "outputs": [],
   "source": [
    "# Now define the loss criteria\n",
    "criterion = torch.nn.MSELoss()\n",
    "#Next define the optimization algorithm\n",
    "optimizer = torch.optim.SGD(lr.parameters(), lr=learningRate)"
   ]
  },
  {
   "cell_type": "markdown",
   "metadata": {},
   "source": [
    "### Now train the model"
   ]
  },
  {
   "cell_type": "code",
   "execution_count": 145,
   "metadata": {
    "scrolled": true
   },
   "outputs": [
    {
     "name": "stdout",
     "output_type": "stream",
     "text": [
      "epoch 0, loss 160.91172790527344\n",
      "epoch 1, loss 151.2422637939453\n",
      "epoch 2, loss 142.29710388183594\n",
      "epoch 3, loss 134.02200317382812\n",
      "epoch 4, loss 126.36676788330078\n",
      "epoch 5, loss 119.28495025634766\n",
      "epoch 6, loss 112.73363494873047\n",
      "epoch 7, loss 106.67304992675781\n",
      "epoch 8, loss 101.06643676757812\n",
      "epoch 9, loss 95.87979888916016\n",
      "epoch 10, loss 91.0816879272461\n",
      "epoch 11, loss 86.64298248291016\n",
      "epoch 12, loss 82.53675079345703\n",
      "epoch 13, loss 78.73811340332031\n",
      "epoch 14, loss 75.22401428222656\n",
      "epoch 15, loss 71.97314453125\n",
      "epoch 16, loss 68.96578216552734\n",
      "epoch 17, loss 66.18368530273438\n",
      "epoch 18, loss 63.60997009277344\n",
      "epoch 19, loss 61.22905349731445\n",
      "epoch 20, loss 59.0264778137207\n",
      "epoch 21, loss 56.988895416259766\n",
      "epoch 22, loss 55.10393524169922\n",
      "epoch 23, loss 53.36015701293945\n",
      "epoch 24, loss 51.747005462646484\n",
      "epoch 25, loss 50.25467300415039\n",
      "epoch 26, loss 48.874141693115234\n",
      "epoch 27, loss 47.59700393676758\n",
      "epoch 28, loss 46.415523529052734\n",
      "epoch 29, loss 45.32254409790039\n",
      "epoch 30, loss 44.31142807006836\n",
      "epoch 31, loss 43.37605285644531\n",
      "epoch 32, loss 42.51073455810547\n",
      "epoch 33, loss 41.710235595703125\n",
      "epoch 34, loss 40.969688415527344\n",
      "epoch 35, loss 40.284610748291016\n",
      "epoch 36, loss 39.650848388671875\n",
      "epoch 37, loss 39.064552307128906\n",
      "epoch 38, loss 38.52216339111328\n",
      "epoch 39, loss 38.02040481567383\n",
      "epoch 40, loss 37.556217193603516\n",
      "epoch 41, loss 37.12679672241211\n",
      "epoch 42, loss 36.729530334472656\n",
      "epoch 43, loss 36.362030029296875\n",
      "epoch 44, loss 36.02204513549805\n",
      "epoch 45, loss 35.70751953125\n",
      "epoch 46, loss 35.41654968261719\n",
      "epoch 47, loss 35.147369384765625\n",
      "epoch 48, loss 34.898345947265625\n",
      "epoch 49, loss 34.66797637939453\n",
      "epoch 50, loss 34.45484924316406\n",
      "epoch 51, loss 34.25768280029297\n",
      "epoch 52, loss 34.07528305053711\n",
      "epoch 53, loss 33.90653991699219\n",
      "epoch 54, loss 33.750423431396484\n",
      "epoch 55, loss 33.60600280761719\n",
      "epoch 56, loss 33.47239303588867\n",
      "epoch 57, loss 33.34878158569336\n",
      "epoch 58, loss 33.23442840576172\n",
      "epoch 59, loss 33.128631591796875\n",
      "epoch 60, loss 33.03075408935547\n",
      "epoch 61, loss 32.94020462036133\n",
      "epoch 62, loss 32.85643005371094\n",
      "epoch 63, loss 32.77892303466797\n",
      "epoch 64, loss 32.70721435546875\n",
      "epoch 65, loss 32.64087677001953\n",
      "epoch 66, loss 32.579498291015625\n",
      "epoch 67, loss 32.52271270751953\n",
      "epoch 68, loss 32.47017288208008\n",
      "epoch 69, loss 32.42156219482422\n",
      "epoch 70, loss 32.3765869140625\n",
      "epoch 71, loss 32.33498001098633\n",
      "epoch 72, loss 32.29647445678711\n",
      "epoch 73, loss 32.2608528137207\n",
      "epoch 74, loss 32.2278938293457\n",
      "epoch 75, loss 32.19739532470703\n",
      "epoch 76, loss 32.16917419433594\n",
      "epoch 77, loss 32.143062591552734\n",
      "epoch 78, loss 32.118900299072266\n",
      "epoch 79, loss 32.09653854370117\n",
      "epoch 80, loss 32.07585144042969\n",
      "epoch 81, loss 32.056705474853516\n",
      "epoch 82, loss 32.03898620605469\n",
      "epoch 83, loss 32.022586822509766\n",
      "epoch 84, loss 32.00741195678711\n",
      "epoch 85, loss 31.993366241455078\n",
      "epoch 86, loss 31.980369567871094\n",
      "epoch 87, loss 31.96833610534668\n",
      "epoch 88, loss 31.957199096679688\n",
      "epoch 89, loss 31.94689178466797\n",
      "epoch 90, loss 31.937347412109375\n",
      "epoch 91, loss 31.928516387939453\n",
      "epoch 92, loss 31.920333862304688\n",
      "epoch 93, loss 31.912765502929688\n",
      "epoch 94, loss 31.90575408935547\n",
      "epoch 95, loss 31.899261474609375\n",
      "epoch 96, loss 31.89324951171875\n",
      "epoch 97, loss 31.88768196105957\n",
      "epoch 98, loss 31.882524490356445\n",
      "epoch 99, loss 31.877748489379883\n",
      "epoch 100, loss 31.873321533203125\n",
      "epoch 101, loss 31.869220733642578\n",
      "epoch 102, loss 31.865421295166016\n",
      "epoch 103, loss 31.86189842224121\n",
      "epoch 104, loss 31.858638763427734\n",
      "epoch 105, loss 31.85561180114746\n",
      "epoch 106, loss 31.852807998657227\n",
      "epoch 107, loss 31.850208282470703\n",
      "epoch 108, loss 31.84779167175293\n",
      "epoch 109, loss 31.84555435180664\n",
      "epoch 110, loss 31.843481063842773\n",
      "epoch 111, loss 31.841550827026367\n",
      "epoch 112, loss 31.83976173400879\n",
      "epoch 113, loss 31.83810043334961\n",
      "epoch 114, loss 31.83656120300293\n",
      "epoch 115, loss 31.83512306213379\n",
      "epoch 116, loss 31.833789825439453\n",
      "epoch 117, loss 31.832551956176758\n",
      "epoch 118, loss 31.83139991760254\n",
      "epoch 119, loss 31.830326080322266\n",
      "epoch 120, loss 31.829328536987305\n",
      "epoch 121, loss 31.82839584350586\n",
      "epoch 122, loss 31.827531814575195\n",
      "epoch 123, loss 31.82672882080078\n",
      "epoch 124, loss 31.825971603393555\n",
      "epoch 125, loss 31.825267791748047\n",
      "epoch 126, loss 31.824609756469727\n",
      "epoch 127, loss 31.823999404907227\n",
      "epoch 128, loss 31.823423385620117\n",
      "epoch 129, loss 31.82288360595703\n",
      "epoch 130, loss 31.8223819732666\n",
      "epoch 131, loss 31.82190704345703\n",
      "epoch 132, loss 31.82146644592285\n",
      "epoch 133, loss 31.82105255126953\n",
      "epoch 134, loss 31.82066535949707\n",
      "epoch 135, loss 31.820297241210938\n",
      "epoch 136, loss 31.819944381713867\n",
      "epoch 137, loss 31.81962013244629\n",
      "epoch 138, loss 31.819313049316406\n",
      "epoch 139, loss 31.819019317626953\n",
      "epoch 140, loss 31.818742752075195\n",
      "epoch 141, loss 31.818479537963867\n",
      "epoch 142, loss 31.818233489990234\n",
      "epoch 143, loss 31.817996978759766\n",
      "epoch 144, loss 31.817771911621094\n",
      "epoch 145, loss 31.81756019592285\n",
      "epoch 146, loss 31.817358016967773\n",
      "epoch 147, loss 31.81715965270996\n",
      "epoch 148, loss 31.816972732543945\n",
      "epoch 149, loss 31.81679344177246\n",
      "epoch 150, loss 31.816625595092773\n",
      "epoch 151, loss 31.81645965576172\n",
      "epoch 152, loss 31.816301345825195\n",
      "epoch 153, loss 31.816144943237305\n",
      "epoch 154, loss 31.815996170043945\n",
      "epoch 155, loss 31.81585121154785\n",
      "epoch 156, loss 31.815717697143555\n",
      "epoch 157, loss 31.815584182739258\n",
      "epoch 158, loss 31.815446853637695\n",
      "epoch 159, loss 31.815322875976562\n",
      "epoch 160, loss 31.81519889831543\n",
      "epoch 161, loss 31.815078735351562\n",
      "epoch 162, loss 31.81496238708496\n",
      "epoch 163, loss 31.81484603881836\n",
      "epoch 164, loss 31.81473159790039\n",
      "epoch 165, loss 31.814620971679688\n",
      "epoch 166, loss 31.814512252807617\n",
      "epoch 167, loss 31.81440544128418\n",
      "epoch 168, loss 31.814300537109375\n",
      "epoch 169, loss 31.81419563293457\n",
      "epoch 170, loss 31.81409454345703\n",
      "epoch 171, loss 31.813995361328125\n",
      "epoch 172, loss 31.81389617919922\n",
      "epoch 173, loss 31.813798904418945\n",
      "epoch 174, loss 31.81369972229004\n",
      "epoch 175, loss 31.81360626220703\n",
      "epoch 176, loss 31.81351089477539\n",
      "epoch 177, loss 31.813417434692383\n",
      "epoch 178, loss 31.813323974609375\n",
      "epoch 179, loss 31.813228607177734\n",
      "epoch 180, loss 31.813142776489258\n",
      "epoch 181, loss 31.813051223754883\n",
      "epoch 182, loss 31.81296157836914\n",
      "epoch 183, loss 31.812870025634766\n",
      "epoch 184, loss 31.81277847290039\n",
      "epoch 185, loss 31.812686920166016\n",
      "epoch 186, loss 31.812604904174805\n",
      "epoch 187, loss 31.812515258789062\n",
      "epoch 188, loss 31.812429428100586\n",
      "epoch 189, loss 31.81233787536621\n",
      "epoch 190, loss 31.812252044677734\n",
      "epoch 191, loss 31.812166213989258\n",
      "epoch 192, loss 31.81208038330078\n",
      "epoch 193, loss 31.811988830566406\n",
      "epoch 194, loss 31.811906814575195\n",
      "epoch 195, loss 31.81182098388672\n",
      "epoch 196, loss 31.811735153198242\n",
      "epoch 197, loss 31.811649322509766\n",
      "epoch 198, loss 31.81156349182129\n",
      "epoch 199, loss 31.811481475830078\n",
      "epoch 200, loss 31.81139373779297\n",
      "epoch 201, loss 31.811309814453125\n",
      "epoch 202, loss 31.81122589111328\n",
      "epoch 203, loss 31.811141967773438\n",
      "epoch 204, loss 31.811058044433594\n",
      "epoch 205, loss 31.81096839904785\n",
      "epoch 206, loss 31.810888290405273\n",
      "epoch 207, loss 31.810802459716797\n",
      "epoch 208, loss 31.810720443725586\n",
      "epoch 209, loss 31.810636520385742\n",
      "epoch 210, loss 31.8105525970459\n",
      "epoch 211, loss 31.810470581054688\n",
      "epoch 212, loss 31.810388565063477\n",
      "epoch 213, loss 31.810298919677734\n",
      "epoch 214, loss 31.810216903686523\n",
      "epoch 215, loss 31.810131072998047\n",
      "epoch 216, loss 31.81004524230957\n",
      "epoch 217, loss 31.809968948364258\n",
      "epoch 218, loss 31.80988311767578\n",
      "epoch 219, loss 31.809799194335938\n",
      "epoch 220, loss 31.809715270996094\n",
      "epoch 221, loss 31.809633255004883\n",
      "epoch 222, loss 31.809553146362305\n",
      "epoch 223, loss 31.809465408325195\n",
      "epoch 224, loss 31.80938148498535\n",
      "epoch 225, loss 31.80929946899414\n",
      "epoch 226, loss 31.809215545654297\n",
      "epoch 227, loss 31.809133529663086\n",
      "epoch 228, loss 31.809049606323242\n",
      "epoch 229, loss 31.8089656829834\n",
      "epoch 230, loss 31.808883666992188\n",
      "epoch 231, loss 31.80879783630371\n",
      "epoch 232, loss 31.808717727661133\n",
      "epoch 233, loss 31.808635711669922\n",
      "epoch 234, loss 31.808551788330078\n",
      "epoch 235, loss 31.808469772338867\n",
      "epoch 236, loss 31.80838394165039\n",
      "epoch 237, loss 31.80830192565918\n",
      "epoch 238, loss 31.808216094970703\n",
      "epoch 239, loss 31.808135986328125\n",
      "epoch 240, loss 31.808053970336914\n",
      "epoch 241, loss 31.807971954345703\n",
      "epoch 242, loss 31.80788230895996\n",
      "epoch 243, loss 31.807804107666016\n",
      "epoch 244, loss 31.80771827697754\n",
      "epoch 245, loss 31.807640075683594\n",
      "epoch 246, loss 31.80755615234375\n",
      "epoch 247, loss 31.807472229003906\n",
      "epoch 248, loss 31.807388305664062\n",
      "epoch 249, loss 31.807302474975586\n",
      "epoch 250, loss 31.807220458984375\n",
      "epoch 251, loss 31.807140350341797\n",
      "epoch 252, loss 31.807058334350586\n",
      "epoch 253, loss 31.806974411010742\n"
     ]
    },
    {
     "name": "stdout",
     "output_type": "stream",
     "text": [
      "epoch 254, loss 31.806888580322266\n",
      "epoch 255, loss 31.806808471679688\n",
      "epoch 256, loss 31.80672264099121\n",
      "epoch 257, loss 31.806642532348633\n",
      "epoch 258, loss 31.806560516357422\n",
      "epoch 259, loss 31.806474685668945\n",
      "epoch 260, loss 31.806394577026367\n",
      "epoch 261, loss 31.806310653686523\n",
      "epoch 262, loss 31.80622673034668\n",
      "epoch 263, loss 31.806148529052734\n",
      "epoch 264, loss 31.806062698364258\n",
      "epoch 265, loss 31.805978775024414\n",
      "epoch 266, loss 31.80589485168457\n",
      "epoch 267, loss 31.80581283569336\n",
      "epoch 268, loss 31.80573272705078\n",
      "epoch 269, loss 31.805648803710938\n",
      "epoch 270, loss 31.805564880371094\n",
      "epoch 271, loss 31.805482864379883\n",
      "epoch 272, loss 31.805402755737305\n",
      "epoch 273, loss 31.805315017700195\n",
      "epoch 274, loss 31.805234909057617\n",
      "epoch 275, loss 31.805150985717773\n",
      "epoch 276, loss 31.80506706237793\n",
      "epoch 277, loss 31.80498504638672\n",
      "epoch 278, loss 31.80490493774414\n",
      "epoch 279, loss 31.80481719970703\n",
      "epoch 280, loss 31.804737091064453\n",
      "epoch 281, loss 31.804655075073242\n",
      "epoch 282, loss 31.804569244384766\n",
      "epoch 283, loss 31.804487228393555\n",
      "epoch 284, loss 31.804407119750977\n",
      "epoch 285, loss 31.804319381713867\n",
      "epoch 286, loss 31.80423927307129\n",
      "epoch 287, loss 31.804157257080078\n",
      "epoch 288, loss 31.8040714263916\n",
      "epoch 289, loss 31.80398941040039\n",
      "epoch 290, loss 31.80390739440918\n",
      "epoch 291, loss 31.8038272857666\n",
      "epoch 292, loss 31.803741455078125\n",
      "epoch 293, loss 31.803659439086914\n",
      "epoch 294, loss 31.803577423095703\n",
      "epoch 295, loss 31.803491592407227\n",
      "epoch 296, loss 31.803409576416016\n",
      "epoch 297, loss 31.803329467773438\n",
      "epoch 298, loss 31.803245544433594\n",
      "epoch 299, loss 31.803163528442383\n",
      "epoch 300, loss 31.80307960510254\n",
      "epoch 301, loss 31.802995681762695\n",
      "epoch 302, loss 31.80291175842285\n",
      "epoch 303, loss 31.802831649780273\n",
      "epoch 304, loss 31.802749633789062\n",
      "epoch 305, loss 31.80266761779785\n",
      "epoch 306, loss 31.802581787109375\n",
      "epoch 307, loss 31.802501678466797\n",
      "epoch 308, loss 31.802419662475586\n",
      "epoch 309, loss 31.802335739135742\n",
      "epoch 310, loss 31.80225372314453\n",
      "epoch 311, loss 31.802169799804688\n",
      "epoch 312, loss 31.80208969116211\n",
      "epoch 313, loss 31.802003860473633\n",
      "epoch 314, loss 31.801921844482422\n",
      "epoch 315, loss 31.80183982849121\n",
      "epoch 316, loss 31.801759719848633\n",
      "epoch 317, loss 31.801671981811523\n",
      "epoch 318, loss 31.801591873168945\n",
      "epoch 319, loss 31.801509857177734\n",
      "epoch 320, loss 31.801427841186523\n",
      "epoch 321, loss 31.801342010498047\n",
      "epoch 322, loss 31.801258087158203\n",
      "epoch 323, loss 31.801177978515625\n",
      "epoch 324, loss 31.80109405517578\n",
      "epoch 325, loss 31.80101203918457\n",
      "epoch 326, loss 31.800928115844727\n",
      "epoch 327, loss 31.800844192504883\n",
      "epoch 328, loss 31.800765991210938\n",
      "epoch 329, loss 31.800682067871094\n",
      "epoch 330, loss 31.800600051879883\n",
      "epoch 331, loss 31.80051612854004\n",
      "epoch 332, loss 31.800432205200195\n",
      "epoch 333, loss 31.800352096557617\n",
      "epoch 334, loss 31.800270080566406\n",
      "epoch 335, loss 31.80018424987793\n",
      "epoch 336, loss 31.80010223388672\n",
      "epoch 337, loss 31.80002212524414\n",
      "epoch 338, loss 31.79993438720703\n",
      "epoch 339, loss 31.799854278564453\n",
      "epoch 340, loss 31.799772262573242\n",
      "epoch 341, loss 31.799694061279297\n",
      "epoch 342, loss 31.799610137939453\n",
      "epoch 343, loss 31.799524307250977\n",
      "epoch 344, loss 31.799442291259766\n",
      "epoch 345, loss 31.799360275268555\n",
      "epoch 346, loss 31.79927635192871\n",
      "epoch 347, loss 31.799192428588867\n",
      "epoch 348, loss 31.79911231994629\n",
      "epoch 349, loss 31.799030303955078\n",
      "epoch 350, loss 31.798946380615234\n",
      "epoch 351, loss 31.798864364624023\n",
      "epoch 352, loss 31.79878044128418\n",
      "epoch 353, loss 31.7987003326416\n",
      "epoch 354, loss 31.79861831665039\n",
      "epoch 355, loss 31.798532485961914\n",
      "epoch 356, loss 31.79844856262207\n",
      "epoch 357, loss 31.798370361328125\n",
      "epoch 358, loss 31.798288345336914\n",
      "epoch 359, loss 31.79820442199707\n",
      "epoch 360, loss 31.798120498657227\n",
      "epoch 361, loss 31.798036575317383\n",
      "epoch 362, loss 31.79795265197754\n",
      "epoch 363, loss 31.797868728637695\n",
      "epoch 364, loss 31.79779052734375\n",
      "epoch 365, loss 31.797706604003906\n",
      "epoch 366, loss 31.797622680664062\n",
      "epoch 367, loss 31.79754066467285\n",
      "epoch 368, loss 31.797460556030273\n",
      "epoch 369, loss 31.79737663269043\n",
      "epoch 370, loss 31.797292709350586\n",
      "epoch 371, loss 31.797208786010742\n",
      "epoch 372, loss 31.797130584716797\n",
      "epoch 373, loss 31.797048568725586\n",
      "epoch 374, loss 31.796964645385742\n",
      "epoch 375, loss 31.79688262939453\n",
      "epoch 376, loss 31.796796798706055\n",
      "epoch 377, loss 31.79671859741211\n",
      "epoch 378, loss 31.796634674072266\n",
      "epoch 379, loss 31.796550750732422\n",
      "epoch 380, loss 31.79646873474121\n",
      "epoch 381, loss 31.796384811401367\n",
      "epoch 382, loss 31.796300888061523\n",
      "epoch 383, loss 31.796220779418945\n",
      "epoch 384, loss 31.796138763427734\n",
      "epoch 385, loss 31.79605484008789\n",
      "epoch 386, loss 31.79597282409668\n",
      "epoch 387, loss 31.7958927154541\n",
      "epoch 388, loss 31.795808792114258\n",
      "epoch 389, loss 31.795726776123047\n",
      "epoch 390, loss 31.795642852783203\n",
      "epoch 391, loss 31.795562744140625\n",
      "epoch 392, loss 31.795480728149414\n",
      "epoch 393, loss 31.795392990112305\n",
      "epoch 394, loss 31.79531478881836\n",
      "epoch 395, loss 31.795228958129883\n",
      "epoch 396, loss 31.795148849487305\n",
      "epoch 397, loss 31.795066833496094\n",
      "epoch 398, loss 31.79498291015625\n",
      "epoch 399, loss 31.794904708862305\n",
      "epoch 400, loss 31.794815063476562\n",
      "epoch 401, loss 31.794736862182617\n",
      "epoch 402, loss 31.794654846191406\n",
      "epoch 403, loss 31.794570922851562\n",
      "epoch 404, loss 31.79448890686035\n",
      "epoch 405, loss 31.79440689086914\n",
      "epoch 406, loss 31.79432487487793\n",
      "epoch 407, loss 31.79424285888672\n",
      "epoch 408, loss 31.794158935546875\n",
      "epoch 409, loss 31.79407501220703\n",
      "epoch 410, loss 31.793996810913086\n",
      "epoch 411, loss 31.79391098022461\n",
      "epoch 412, loss 31.79383087158203\n",
      "epoch 413, loss 31.793750762939453\n",
      "epoch 414, loss 31.793664932250977\n",
      "epoch 415, loss 31.7935848236084\n",
      "epoch 416, loss 31.793498992919922\n",
      "epoch 417, loss 31.793420791625977\n",
      "epoch 418, loss 31.793336868286133\n",
      "epoch 419, loss 31.793249130249023\n",
      "epoch 420, loss 31.793170928955078\n",
      "epoch 421, loss 31.793088912963867\n",
      "epoch 422, loss 31.79300880432129\n",
      "epoch 423, loss 31.792924880981445\n",
      "epoch 424, loss 31.7928409576416\n",
      "epoch 425, loss 31.792760848999023\n",
      "epoch 426, loss 31.79267692565918\n",
      "epoch 427, loss 31.79259490966797\n",
      "epoch 428, loss 31.792510986328125\n",
      "epoch 429, loss 31.792430877685547\n",
      "epoch 430, loss 31.792346954345703\n",
      "epoch 431, loss 31.792266845703125\n",
      "epoch 432, loss 31.792179107666016\n",
      "epoch 433, loss 31.79210090637207\n",
      "epoch 434, loss 31.792016983032227\n",
      "epoch 435, loss 31.79193878173828\n",
      "epoch 436, loss 31.791854858398438\n",
      "epoch 437, loss 31.791772842407227\n",
      "epoch 438, loss 31.791685104370117\n",
      "epoch 439, loss 31.79160499572754\n",
      "epoch 440, loss 31.79152488708496\n",
      "epoch 441, loss 31.79144287109375\n",
      "epoch 442, loss 31.791357040405273\n",
      "epoch 443, loss 31.791275024414062\n",
      "epoch 444, loss 31.79119300842285\n",
      "epoch 445, loss 31.791112899780273\n",
      "epoch 446, loss 31.791030883789062\n",
      "epoch 447, loss 31.790945053100586\n",
      "epoch 448, loss 31.790868759155273\n",
      "epoch 449, loss 31.790782928466797\n",
      "epoch 450, loss 31.790700912475586\n",
      "epoch 451, loss 31.790616989135742\n",
      "epoch 452, loss 31.79053497314453\n",
      "epoch 453, loss 31.790456771850586\n",
      "epoch 454, loss 31.790369033813477\n",
      "epoch 455, loss 31.7902889251709\n",
      "epoch 456, loss 31.790205001831055\n",
      "epoch 457, loss 31.79012680053711\n",
      "epoch 458, loss 31.790042877197266\n",
      "epoch 459, loss 31.789958953857422\n",
      "epoch 460, loss 31.78987693786621\n",
      "epoch 461, loss 31.789796829223633\n",
      "epoch 462, loss 31.78971290588379\n",
      "epoch 463, loss 31.789628982543945\n",
      "epoch 464, loss 31.789548873901367\n",
      "epoch 465, loss 31.78946876525879\n",
      "epoch 466, loss 31.789379119873047\n",
      "epoch 467, loss 31.789302825927734\n",
      "epoch 468, loss 31.78921890258789\n",
      "epoch 469, loss 31.789134979248047\n",
      "epoch 470, loss 31.7890567779541\n",
      "epoch 471, loss 31.788970947265625\n",
      "epoch 472, loss 31.788890838623047\n",
      "epoch 473, loss 31.788806915283203\n",
      "epoch 474, loss 31.788726806640625\n",
      "epoch 475, loss 31.788646697998047\n",
      "epoch 476, loss 31.788562774658203\n",
      "epoch 477, loss 31.788476943969727\n",
      "epoch 478, loss 31.78839874267578\n",
      "epoch 479, loss 31.78831672668457\n",
      "epoch 480, loss 31.788232803344727\n",
      "epoch 481, loss 31.788150787353516\n",
      "epoch 482, loss 31.788068771362305\n",
      "epoch 483, loss 31.787988662719727\n",
      "epoch 484, loss 31.787904739379883\n",
      "epoch 485, loss 31.787824630737305\n",
      "epoch 486, loss 31.787736892700195\n",
      "epoch 487, loss 31.787656784057617\n",
      "epoch 488, loss 31.787574768066406\n",
      "epoch 489, loss 31.787492752075195\n",
      "epoch 490, loss 31.787412643432617\n",
      "epoch 491, loss 31.787330627441406\n",
      "epoch 492, loss 31.78724479675293\n",
      "epoch 493, loss 31.78716468811035\n",
      "epoch 494, loss 31.787084579467773\n",
      "epoch 495, loss 31.78700065612793\n",
      "epoch 496, loss 31.786916732788086\n",
      "epoch 497, loss 31.786832809448242\n",
      "epoch 498, loss 31.786754608154297\n",
      "epoch 499, loss 31.786670684814453\n"
     ]
    }
   ],
   "source": [
    "for epoch in range(epochs):\n",
    "    #Convert the inputs and labels to Variables\n",
    "    if torch.cuda.is_available():\n",
    "        inputs = Variable(torch.from_numpy(x_train).cuda())\n",
    "        labels = Variable(torch.from_numpy(y_train).cuda())\n",
    "    else:\n",
    "        inputs = Variable(torch.from_numpy(x_train))\n",
    "        labels = Variable(torch.from_numpy(y_train))\n",
    "    \n",
    "    #Clear gradient buffers because we don't want any gradient from previous epoch to carry forward, dont want to acummulate gradients\n",
    "    optimizer.zero_grad()\n",
    "    \n",
    "    #get output from model given the inputs\n",
    "    outputs = lr(inputs)\n",
    "    \n",
    "    #Compute the loss for the predicted output\n",
    "    loss = criterion(outputs, labels)\n",
    "    #print('epoch:',epoch,'\\tloss:',loss)\n",
    "    \n",
    "    #Now compute the gradients w.r.t. parameters\n",
    "    loss.backward()\n",
    "    \n",
    "    # Update parameters\n",
    "    optimizer.step()\n",
    "    \n",
    "    print('epoch {}, loss {}'.format(epoch, loss.item()))\n",
    "    #if(epoch == 5):\n",
    "    #    break"
   ]
  },
  {
   "cell_type": "markdown",
   "metadata": {},
   "source": [
    "Note: Might want to implement an early-stopping criteria here"
   ]
  },
  {
   "cell_type": "markdown",
   "metadata": {},
   "source": [
    "### Now test how well the model performed"
   ]
  },
  {
   "cell_type": "code",
   "execution_count": 102,
   "metadata": {},
   "outputs": [
    {
     "data": {
      "image/png": "[encoded data removed]",
      "text/plain": [
       "<Figure size 432x288 with 1 Axes>"
      ]
     },
     "metadata": {
      "needs_background": "light"
     },
     "output_type": "display_data"
    }
   ],
   "source": [
    "with torch.no_grad(): # Don't need gradients in the testing phase\n",
    "    if torch.cuda.is_available():\n",
    "        predicted = lr(Variable(torch.from_numpy(x_train).cuda())).cpu().data.numpy()\n",
    "    else:\n",
    "        predicted = lr(Variable(torch.from_numpy(x_train))).data.numpy()\n",
    "    #print(predicted)\n",
    "\n",
    "plt.clf()\n",
    "plt.plot(x_train, y_train, 'go', label='True data', alpha=0.5)\n",
    "plt.plot(x_train, predicted, '--', label='Predictions', alpha=0.5)\n",
    "plt.legend(loc='best')\n",
    "plt.show()"
   ]
  },
  {
   "cell_type": "markdown",
   "metadata": {},
   "source": [
    "Compute the R^squared value. Formula taken from this website: https://www.kite.com/python/answers/how-to-calculate-r-squared-with-numpy-in-python#:~:text=corrcoef()%20to%20calculate%20R,matrix%20between%20x%20and%20y%20."
   ]
  },
  {
   "cell_type": "code",
   "execution_count": 123,
   "metadata": {},
   "outputs": [],
   "source": [
    "def compute_r_squared(x, y):\n",
    "    correlation_matrix = np.corrcoef(x.reshape(1, -1), y.reshape(1, -1))\n",
    "    correlation_xy = correlation_matrix[0,1]\n",
    "    r_squared = correlation_xy**2\n",
    "    return r_squared"
   ]
  },
  {
   "cell_type": "code",
   "execution_count": 127,
   "metadata": {},
   "outputs": [
    {
     "data": {
      "text/plain": [
       "0.5333279539199924"
      ]
     },
     "execution_count": 127,
     "metadata": {},
     "output_type": "execute_result"
    }
   ],
   "source": [
    "r_sq_nnlr = compute_r_squared(predicted, y_train)\n",
    "r_sq_nnlr"
   ]
  },
  {
   "cell_type": "code",
   "execution_count": 128,
   "metadata": {},
   "outputs": [
    {
     "data": {
      "text/plain": [
       "0.5333279627871967"
      ]
     },
     "execution_count": 128,
     "metadata": {},
     "output_type": "execute_result"
    }
   ],
   "source": [
    "r_sq_sklr"
   ]
  },
  {
   "cell_type": "markdown",
   "metadata": {},
   "source": [
    "# Conclusion:\n",
    "\n",
    "SKLearn and this simple NN acheive similar results! SKLearn is both easier to use and faster but the custom-made NN has more flexibility."
   ]
  },
  {
   "cell_type": "code",
   "execution_count": null,
   "metadata": {},
   "outputs": [],
   "source": []
  }
 ],
 "metadata": {
  "kernelspec": {
   "display_name": "Python 3",
   "language": "python",
   "name": "python3"
  },
  "language_info": {
   "codemirror_mode": {
    "name": "ipython",
    "version": 3
   },
   "file_extension": ".py",
   "mimetype": "text/x-python",
   "name": "python",
   "nbconvert_exporter": "python",
   "pygments_lexer": "ipython3",
   "version": "3.7.6"
  }
 },
 "nbformat": 4,
 "nbformat_minor": 4
}
